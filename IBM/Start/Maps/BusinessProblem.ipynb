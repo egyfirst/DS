{
 "cells": [
  {
   "cell_type": "markdown",
   "metadata": {},
   "source": [
    "# Introduction/Business Problem"
   ]
  },
  {
   "cell_type": "markdown",
   "metadata": {},
   "source": [
    "## What is this business-case going to answer and where?\n",
    "\n",
    "### The place:\n",
    "New York city, a USA state.\n",
    "\n",
    "### The problem:\n",
    "A stakeholder has restaurant in Manhattan, he wants to expand his business by openening a new branch in the same state, New York. Where would he be recommended to open? \n",
    "The stakeholder asked me to help him in finding the best place to open his new branch\n",
    "\n",
    "### The Dataset:\n",
    "As a data analyst I got New York data from NYU spatial data repository and find that it gas 5 boroughs:\n",
    "\n",
    "* Manhattan with 40 neighbors\n",
    "* Bronx with 52 neighbors\n",
    "* Staten with Island 63 neighbors\n",
    "* Brooklyn with 70 neighbors\n",
    "* Queens with 81 neighbors\n",
    "\n",
    "\n",
    "### The Methodology:\n",
    "I planned my task as following by dividing  it into two main methods:\n",
    "1. which borough is more similar to Manhattan, thus it would be more appropriate to open there, if all other boroughs show great dissimilarity then I would recommend to open in the same borough, Manhattan, but in different place.\n",
    "2. Then my task will be to choose the best place the restaurant would be placed in based on many criteria, mainly, competitors surrounding, competitors ratings and trending."
   ]
  },
  {
   "cell_type": "markdown",
   "metadata": {},
   "source": [
    "## The Process:\n",
    "We are going to work on \"New York\" state in USA\n",
    "* First we will extract all Newyork neighbors usind data provided by NYU spatial data repository at https://geo.nyu.edu \n",
    "* Second, We will use Foursquare API  provided by https://developer.foursquare.com/ to retrieve all needed location, Borough, Categories, Rating, and Trending information\n",
    "this is the main data we will use for cleaning, wrangling and put for further investigations\n",
    "\n",
    "* Thirdly, We will use skilearn library from python to analysis our data using proper machine learning algorithms. There are many algorithms to use i.e k-nearest neighbors, k-means, DBScan, and and decision tree. We will use an algorithm best suits our case analysis and investigations.\n",
    "\n",
    "* Then we will use matplotlib library to visualize the investigated results on maps using Foluim library for python\n",
    "\n",
    "* Finally, we will put it all together in a simple way, such that stackholders can make their decision easily based on our data analysis investigation for this business case."
   ]
  },
  {
   "cell_type": "code",
   "execution_count": null,
   "metadata": {},
   "outputs": [],
   "source": []
  }
 ],
 "metadata": {
  "kernelspec": {
   "display_name": "Python 3",
   "language": "python",
   "name": "python3"
  },
  "language_info": {
   "codemirror_mode": {
    "name": "ipython",
    "version": 3
   },
   "file_extension": ".py",
   "mimetype": "text/x-python",
   "name": "python",
   "nbconvert_exporter": "python",
   "pygments_lexer": "ipython3",
   "version": "3.6.6"
  }
 },
 "nbformat": 4,
 "nbformat_minor": 2
}
